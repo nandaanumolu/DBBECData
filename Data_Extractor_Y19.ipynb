{
 "cells": [
  {
   "cell_type": "code",
   "execution_count": 185,
   "id": "2843478e",
   "metadata": {},
   "outputs": [],
   "source": [
    "import pandas as pd\n",
    "\n"
   ]
  },
  {
   "cell_type": "code",
   "execution_count": null,
   "id": "c8963f0c",
   "metadata": {},
   "outputs": [],
   "source": []
  },
  {
   "cell_type": "code",
   "execution_count": null,
   "id": "0ddfe496",
   "metadata": {},
   "outputs": [],
   "source": []
  },
  {
   "cell_type": "code",
   "execution_count": null,
   "id": "820f6a22",
   "metadata": {},
   "outputs": [],
   "source": []
  },
  {
   "cell_type": "code",
   "execution_count": null,
   "id": "e065f158",
   "metadata": {},
   "outputs": [],
   "source": []
  },
  {
   "cell_type": "code",
   "execution_count": 186,
   "id": "21524d61",
   "metadata": {},
   "outputs": [
    {
     "name": "stdout",
     "output_type": "stream",
     "text": [
      "[2, 5, 8, 11, 15, 18, 21]\n"
     ]
    },
    {
     "data": {
      "text/plain": [
       "(1211, 7)"
      ]
     },
     "execution_count": 186,
     "metadata": {},
     "output_type": "execute_result"
    }
   ],
   "source": [
    "import os\n",
    "import pandas as pd\n",
    "\n",
    "sheet=pd.read_excel(\"N:/temp_ass/Data/Data/Y19/ECE.xlsx\")\n",
    "main_df_19_ece=pd.DataFrame(columns=[\"Reg Id\",\"Name\",\"SUB CODE\",\"SUB NAME\",\"Dept\",\"Sem\",\"Year\"])\n",
    "u_s1=sheet.iloc[1:,:]\n",
    "u_s1.columns = u_s1.iloc[0]\n",
    "u_s1.reset_index(drop=True,inplace=True)\n",
    "u_s1=u_s1.iloc[1:,:]\n",
    "u_s1.columns.values[0]=\"Reg Id\"\n",
    "u_s1.columns.values[1]=\"Name\"\n",
    "new_df=pd.DataFrame(u_s1)\n",
    "temp_cols_sc=list(new_df.columns)\n",
    "temp_cols_sn=list(new_df.columns)\n",
    "temp_cols_sc_index=[i for i in range(0,len(temp_cols_sc)) if(temp_cols_sc[i]==\"SUB CODE\")]\n",
    "temp_cols_sn_index=[i for i in range(0,len(temp_cols_sn)) if(temp_cols_sn[i]==\"SUB NAME\")]\n",
    "print(temp_cols_sc_index)\n",
    "SEMS=[\"V\",\"VI\",\"VII\",\"VII\",\"VIII\",\"VIII\",\"VIII\"]\n",
    "for i in range(0,len(temp_cols_sc_index)):\n",
    "    new_df_temp=pd.DataFrame()\n",
    "    new_df_temp[\"Reg Id\"]=new_df[\"Reg Id\"]\n",
    "    new_df_temp[\"Name\"]=new_df[\"Name\"]\n",
    "    new_df_temp[\"SUB CODE\"]=new_df.iloc[:,temp_cols_sc_index[i]]\n",
    "    new_df_temp[\"SUB NAME\"]=new_df.iloc[:,temp_cols_sn_index[i]]\n",
    "    new_df_temp[\"Dept\"]=\"ECE\"\n",
    "    new_df_temp[\"Sem\"]=SEMS[i]\n",
    "    new_df_temp[\"Year\"]=\"19\"\n",
    "    main_df_19_ece=pd.concat([main_df_19_ece,new_df_temp],ignore_index=True,axis=0)\n",
    "\n",
    "main_df_19_ece.shape"
   ]
  },
  {
   "cell_type": "code",
   "execution_count": 187,
   "id": "322cc1af",
   "metadata": {},
   "outputs": [
    {
     "data": {
      "text/html": [
       "<div>\n",
       "<style scoped>\n",
       "    .dataframe tbody tr th:only-of-type {\n",
       "        vertical-align: middle;\n",
       "    }\n",
       "\n",
       "    .dataframe tbody tr th {\n",
       "        vertical-align: top;\n",
       "    }\n",
       "\n",
       "    .dataframe thead th {\n",
       "        text-align: right;\n",
       "    }\n",
       "</style>\n",
       "<table border=\"1\" class=\"dataframe\">\n",
       "  <thead>\n",
       "    <tr style=\"text-align: right;\">\n",
       "      <th></th>\n",
       "      <th>Reg Id</th>\n",
       "      <th>Name</th>\n",
       "      <th>SUB CODE</th>\n",
       "      <th>SUB NAME</th>\n",
       "      <th>Dept</th>\n",
       "      <th>Sem</th>\n",
       "      <th>Year</th>\n",
       "    </tr>\n",
       "  </thead>\n",
       "  <tbody>\n",
       "    <tr>\n",
       "      <th>0</th>\n",
       "      <td>L18AEC533</td>\n",
       "      <td>SAPPOGU SANDEEPU KUMAR</td>\n",
       "      <td>18ECD11</td>\n",
       "      <td>Computer Organization &amp; Architecture</td>\n",
       "      <td>ECE</td>\n",
       "      <td>V</td>\n",
       "      <td>19</td>\n",
       "    </tr>\n",
       "    <tr>\n",
       "      <th>1</th>\n",
       "      <td>L20AEC581</td>\n",
       "      <td>AKURATHI ANITHA</td>\n",
       "      <td>18ECD12</td>\n",
       "      <td>Data Communication and Computer Networks</td>\n",
       "      <td>ECE</td>\n",
       "      <td>V</td>\n",
       "      <td>19</td>\n",
       "    </tr>\n",
       "  </tbody>\n",
       "</table>\n",
       "</div>"
      ],
      "text/plain": [
       "      Reg Id                    Name SUB CODE  \\\n",
       "0  L18AEC533  SAPPOGU SANDEEPU KUMAR  18ECD11   \n",
       "1  L20AEC581         AKURATHI ANITHA  18ECD12   \n",
       "\n",
       "                                   SUB NAME Dept Sem Year  \n",
       "0      Computer Organization & Architecture  ECE   V   19  \n",
       "1  Data Communication and Computer Networks  ECE   V   19  "
      ]
     },
     "execution_count": 187,
     "metadata": {},
     "output_type": "execute_result"
    }
   ],
   "source": [
    "main_df_19_ece.head(2)"
   ]
  },
  {
   "cell_type": "code",
   "execution_count": null,
   "id": "5ad7309f",
   "metadata": {},
   "outputs": [],
   "source": []
  },
  {
   "cell_type": "code",
   "execution_count": null,
   "id": "24905a5d",
   "metadata": {},
   "outputs": [],
   "source": []
  },
  {
   "cell_type": "code",
   "execution_count": null,
   "id": "48dac9a7",
   "metadata": {},
   "outputs": [],
   "source": []
  },
  {
   "cell_type": "code",
   "execution_count": 188,
   "id": "4caf989e",
   "metadata": {},
   "outputs": [],
   "source": [
    "civil_df_VIII=pd.read_excel(\"N:/temp_ass/Data/Data/Y19/CIVIL 1.xlsx\",sheet_name=\"VIII\")\n",
    "civil_df_VIII=civil_df_VIII.iloc[3:,1:]\n",
    "civil_df_VIII.rename(columns={\"Unnamed: 1\":\"Reg Id\",\"Unnamed: 2\":\"Name\",\"Unnamed: 3\":\"SUB NAME\"},inplace=True)\n",
    "civil_df_VIII.reset_index(drop=True,inplace=True)\n",
    "civil_df_VIII[\"Sem\"]=\"VIII\"\n",
    "\n",
    "civil_df_VII=pd.read_excel(\"N:/temp_ass/Data/Data/Y19/CIVIL 1.xlsx\",sheet_name=\"VII\", header=None)\n",
    "civil_df_VII=civil_df_VII[[2,3,5]]\n",
    "civil_df_VII.columns=[\"Reg Id\",\"Name\",\"SUB NAME\"]\n",
    "civil_df_VII.reset_index(drop=True,inplace=True)\n",
    "civil_df_VII[\"Sem\"]=\"VII\"\n",
    "\n",
    "civil_df_VI=civil_df_VII.copy()\n",
    "civil_df_VI[\"Sem\"]=\"VI\"\n",
    "civil_df_VI_CLONE=civil_df_VI\n",
    "civil_df_VI[\"SUB NAME\"]=\"Advanced Structural Analysis\"\n",
    "civil_df_VI[\"SUB CODE\"]=\"18CED11\"\n",
    "\n",
    "civil_df_VI_CLONE[\"SUB NAME\"]=\"Advanced Design Of Structures\"\n",
    "civil_df_VI_CLONE[\"SUB CODE\"]=\"18CED21\"\n",
    "\n",
    "\n",
    "\n",
    "civil_VI_combined=pd.concat([civil_df_VI,civil_df_VI_CLONE],axis=0)\n",
    "\n",
    "main_df_19_civil=pd.concat([civil_VI_combined,civil_df_VII,civil_df_VIII],axis=0)\n",
    "main_df_19_civil[\"Dept\"]=\"CIVIL\"\n",
    "main_df_19_civil[\"Year\"]=\"19\""
   ]
  },
  {
   "cell_type": "code",
   "execution_count": 189,
   "id": "3957c5e9",
   "metadata": {},
   "outputs": [
    {
     "data": {
      "text/html": [
       "<div>\n",
       "<style scoped>\n",
       "    .dataframe tbody tr th:only-of-type {\n",
       "        vertical-align: middle;\n",
       "    }\n",
       "\n",
       "    .dataframe tbody tr th {\n",
       "        vertical-align: top;\n",
       "    }\n",
       "\n",
       "    .dataframe thead th {\n",
       "        text-align: right;\n",
       "    }\n",
       "</style>\n",
       "<table border=\"1\" class=\"dataframe\">\n",
       "  <thead>\n",
       "    <tr style=\"text-align: right;\">\n",
       "      <th></th>\n",
       "      <th>Reg Id</th>\n",
       "      <th>Name</th>\n",
       "      <th>SUB NAME</th>\n",
       "      <th>Sem</th>\n",
       "      <th>SUB CODE</th>\n",
       "      <th>Dept</th>\n",
       "      <th>Year</th>\n",
       "    </tr>\n",
       "  </thead>\n",
       "  <tbody>\n",
       "    <tr>\n",
       "      <th>0</th>\n",
       "      <td>L20ACE454</td>\n",
       "      <td>ANCHA KRISHNA MURTHI</td>\n",
       "      <td>Advanced Design Of Structures</td>\n",
       "      <td>VI</td>\n",
       "      <td>18CED21</td>\n",
       "      <td>CIVIL</td>\n",
       "      <td>19</td>\n",
       "    </tr>\n",
       "    <tr>\n",
       "      <th>1</th>\n",
       "      <td>L20ACE456</td>\n",
       "      <td>BADAM SURENDRA</td>\n",
       "      <td>Advanced Design Of Structures</td>\n",
       "      <td>VI</td>\n",
       "      <td>18CED21</td>\n",
       "      <td>CIVIL</td>\n",
       "      <td>19</td>\n",
       "    </tr>\n",
       "  </tbody>\n",
       "</table>\n",
       "</div>"
      ],
      "text/plain": [
       "      Reg Id                  Name                       SUB NAME Sem  \\\n",
       "0  L20ACE454  ANCHA KRISHNA MURTHI  Advanced Design Of Structures  VI   \n",
       "1  L20ACE456        BADAM SURENDRA  Advanced Design Of Structures  VI   \n",
       "\n",
       "  SUB CODE   Dept Year  \n",
       "0  18CED21  CIVIL   19  \n",
       "1  18CED21  CIVIL   19  "
      ]
     },
     "execution_count": 189,
     "metadata": {},
     "output_type": "execute_result"
    }
   ],
   "source": [
    "main_df_19_civil.head(2)"
   ]
  },
  {
   "cell_type": "code",
   "execution_count": null,
   "id": "a24acf26",
   "metadata": {},
   "outputs": [],
   "source": []
  },
  {
   "cell_type": "code",
   "execution_count": null,
   "id": "93926a3d",
   "metadata": {},
   "outputs": [],
   "source": []
  },
  {
   "cell_type": "code",
   "execution_count": null,
   "id": "56158825",
   "metadata": {},
   "outputs": [],
   "source": []
  },
  {
   "cell_type": "code",
   "execution_count": 190,
   "id": "ae944781",
   "metadata": {},
   "outputs": [
    {
     "name": "stdout",
     "output_type": "stream",
     "text": [
      "[2, 6, 10, 14, 18, 22, 26, 30]\n"
     ]
    },
    {
     "data": {
      "text/plain": [
       "(128, 7)"
      ]
     },
     "execution_count": 190,
     "metadata": {},
     "output_type": "execute_result"
    }
   ],
   "source": [
    "import os\n",
    "import pandas as pd\n",
    "\n",
    "sheet=pd.read_excel(\"N:/temp_ass/Data/Data/Y19/EIE.xlsx\",sheet_name=\"EIE\")\n",
    "main_df_19_eie=pd.DataFrame(columns=[\"Reg Id\",\"Name\",\"SUB CODE\",\"SUB NAME\",\"Dept\",\"Sem\",\"Year\"])\n",
    "u_s1=sheet.iloc[1:,:]\n",
    "u_s1.columns = u_s1.iloc[0]\n",
    "u_s1.reset_index(drop=True,inplace=True)\n",
    "u_s1=u_s1.iloc[1:,:]\n",
    "u_s1.columns.values[0]=\"Reg Id\"\n",
    "u_s1.columns.values[1]=\"Name\"\n",
    "new_df=pd.DataFrame(u_s1)\n",
    "temp_cols_sc=list(new_df.columns)\n",
    "temp_cols_sn=list(new_df.columns)\n",
    "temp_cols_sc_index=[i for i in range(0,len(temp_cols_sc)) if(temp_cols_sc[i]==\"SUB CODE\")]\n",
    "temp_cols_sn_index=[i for i in range(0,len(temp_cols_sn)) if(temp_cols_sn[i]==\"SUB NAME\")]\n",
    "print(temp_cols_sc_index)\n",
    "SEMS=[\"V\",\"VI\",\"VII\",\"VII\",\"VII\",\"VIII\",\"VIII\",\"VIII\"]\n",
    "for i in range(0,len(temp_cols_sc_index)):\n",
    "    new_df_temp=pd.DataFrame()\n",
    "    new_df_temp[\"Reg Id\"]=new_df[\"Reg Id\"]\n",
    "    new_df_temp[\"Name\"]=new_df[\"Name\"]\n",
    "    new_df_temp[\"SUB CODE\"]=new_df.iloc[:,temp_cols_sc_index[i]]\n",
    "    new_df_temp[\"SUB NAME\"]=new_df.iloc[:,temp_cols_sn_index[i]]\n",
    "    new_df_temp[\"Dept\"]=\"EIE\"\n",
    "    new_df_temp[\"Sem\"]=SEMS[i]\n",
    "    new_df_temp[\"Year\"]=\"19\"\n",
    "    main_df_19_eie=pd.concat([main_df_19_eie,new_df_temp],ignore_index=True,axis=0)\n",
    "\n",
    "main_df_19_eie.shape"
   ]
  },
  {
   "cell_type": "code",
   "execution_count": 191,
   "id": "bbc4eb66",
   "metadata": {},
   "outputs": [
    {
     "name": "stdout",
     "output_type": "stream",
     "text": [
      "[2, 6, 10, 14, 18, 22, 26, 30]\n"
     ]
    },
    {
     "data": {
      "text/plain": [
       "(896, 7)"
      ]
     },
     "execution_count": 191,
     "metadata": {},
     "output_type": "execute_result"
    }
   ],
   "source": [
    "import os\n",
    "import pandas as pd\n",
    "\n",
    "sheet=pd.read_excel(\"N:/temp_ass/Data/Data/Y19/IT.xlsx\")\n",
    "main_df_19_it=pd.DataFrame(columns=[\"Reg Id\",\"Name\",\"SUB CODE\",\"SUB NAME\",\"Dept\",\"Sem\",\"Year\"])\n",
    "u_s1=sheet.iloc[1:,:]\n",
    "u_s1.columns = u_s1.iloc[0]\n",
    "u_s1.reset_index(drop=True,inplace=True)\n",
    "u_s1=u_s1.iloc[1:,:]\n",
    "u_s1.columns.values[0]=\"Reg Id\"\n",
    "u_s1.columns.values[1]=\"Name\"\n",
    "new_df=pd.DataFrame(u_s1)\n",
    "temp_cols_sc=list(new_df.columns)\n",
    "temp_cols_sn=list(new_df.columns)\n",
    "temp_cols_sc_index=[i for i in range(0,len(temp_cols_sc)) if(temp_cols_sc[i]==\"SUB CODE\")]\n",
    "temp_cols_sn_index=[i for i in range(0,len(temp_cols_sn)) if(temp_cols_sn[i]==\"SUB NAME\")]\n",
    "print(temp_cols_sc_index)\n",
    "SEMS=[\"V\",\"VI\",\"VI\",\"VII\",\"VII\",\"VII\",\"VIII\",\"VIII\"]\n",
    "for i in range(0,len(temp_cols_sc_index)):\n",
    "    new_df_temp=pd.DataFrame()\n",
    "    new_df_temp[\"Reg Id\"]=new_df[\"Reg Id\"]\n",
    "    new_df_temp[\"Name\"]=new_df[\"Name\"]\n",
    "    new_df_temp[\"SUB CODE\"]=new_df.iloc[:,temp_cols_sc_index[i]]\n",
    "    new_df_temp[\"SUB NAME\"]=new_df.iloc[:,temp_cols_sn_index[i]]\n",
    "    new_df_temp[\"Dept\"]=\"IT\"\n",
    "    new_df_temp[\"Sem\"]=SEMS[i]\n",
    "    new_df_temp[\"Year\"]=\"19\"\n",
    "    main_df_19_it=pd.concat([main_df_19_it,new_df_temp],ignore_index=True,axis=0)\n",
    "\n",
    "main_df_19_it.shape"
   ]
  },
  {
   "cell_type": "code",
   "execution_count": 192,
   "id": "cbcf44e5",
   "metadata": {},
   "outputs": [
    {
     "name": "stdout",
     "output_type": "stream",
     "text": [
      "[2, 4, 6, 8, 10, 12, 14]\n"
     ]
    },
    {
     "data": {
      "text/plain": [
       "(721, 7)"
      ]
     },
     "execution_count": 192,
     "metadata": {},
     "output_type": "execute_result"
    }
   ],
   "source": [
    "import os\n",
    "import pandas as pd\n",
    "\n",
    "sheet=pd.read_excel(\"N:/temp_ass/Data/Data/Y19/EEE.xlsx\")\n",
    "main_df_19_eee=pd.DataFrame(columns=[\"Reg Id\",\"Name\",\"SUB CODE\",\"SUB NAME\",\"Dept\",\"Sem\",\"Year\"])\n",
    "u_s1=sheet.iloc[1:,:]\n",
    "u_s1.columns = u_s1.iloc[0]\n",
    "u_s1.reset_index(drop=True,inplace=True)\n",
    "u_s1=u_s1.iloc[1:,:]\n",
    "u_s1.columns.values[0]=\"Reg Id\"\n",
    "u_s1.columns.values[1]=\"Name\"\n",
    "new_df=pd.DataFrame(u_s1)\n",
    "temp_cols_sc=list(new_df.columns)\n",
    "temp_cols_sn=list(new_df.columns)\n",
    "temp_cols_sc_index=[i for i in range(0,len(temp_cols_sc)) if(temp_cols_sc[i]==\"SUB CODE\")]\n",
    "temp_cols_sn_index=[i for i in range(0,len(temp_cols_sn)) if(temp_cols_sn[i]==\"SUB NAME\")]\n",
    "print(temp_cols_sc_index)\n",
    "SEMS=[\"VI\",\"VI\",\"VII\",\"VII\",\"VII\",\"VIII\",\"VIII\"]\n",
    "for i in range(0,len(temp_cols_sc_index)):\n",
    "    new_df_temp=pd.DataFrame()\n",
    "    new_df_temp[\"Reg Id\"]=new_df[\"Reg Id\"]\n",
    "    new_df_temp[\"Name\"]=new_df[\"Name\"]\n",
    "    new_df_temp[\"SUB CODE\"]=new_df.iloc[:,temp_cols_sc_index[i]]\n",
    "    new_df_temp[\"SUB NAME\"]=new_df.iloc[:,temp_cols_sn_index[i]]\n",
    "    new_df_temp[\"Dept\"]=\"EEE\"\n",
    "    new_df_temp[\"Sem\"]=SEMS[i]\n",
    "    new_df_temp[\"Year\"]=\"19\"\n",
    "    main_df_19_eee=pd.concat([main_df_19_eee,new_df_temp],ignore_index=True,axis=0)\n",
    "\n",
    "main_df_19_eee.shape"
   ]
  },
  {
   "cell_type": "code",
   "execution_count": 193,
   "id": "6e2076d6",
   "metadata": {},
   "outputs": [
    {
     "name": "stdout",
     "output_type": "stream",
     "text": [
      "[2, 5, 9, 11, 13, 15, 17]\n"
     ]
    },
    {
     "data": {
      "text/plain": [
       "(1351, 7)"
      ]
     },
     "execution_count": 193,
     "metadata": {},
     "output_type": "execute_result"
    }
   ],
   "source": [
    "import os\n",
    "import pandas as pd\n",
    "\n",
    "sheet=pd.read_excel(\"N:/temp_ass/Data/Data/Y19/CSE.xlsx\")\n",
    "main_df_19_cse=pd.DataFrame(columns=[\"Reg Id\",\"Name\",\"SUB CODE\",\"SUB NAME\",\"Dept\",\"Sem\",\"Year\"])\n",
    "u_s1=sheet.iloc[1:,:]\n",
    "u_s1.columns = u_s1.iloc[0]\n",
    "u_s1.reset_index(drop=True,inplace=True)\n",
    "u_s1=u_s1.iloc[1:,:]\n",
    "u_s1.columns.values[0]=\"Reg Id\"\n",
    "u_s1.columns.values[1]=\"Name\"\n",
    "new_df=pd.DataFrame(u_s1)\n",
    "temp_cols_sc=list(new_df.columns)\n",
    "temp_cols_sn=list(new_df.columns)\n",
    "temp_cols_sc_index=[i for i in range(0,len(temp_cols_sc)) if(temp_cols_sc[i]==\"SUB CODE\")]\n",
    "temp_cols_sn_index=[i for i in range(0,len(temp_cols_sn)) if(temp_cols_sn[i]==\"SUB NAME\")]\n",
    "print(temp_cols_sc_index)\n",
    "SEMS=[\"VI\",\"VII\",\"VII\",\"VII\",\"VIII\",\"VIII\",\"VIII\"]\n",
    "for i in range(0,len(temp_cols_sc_index)):\n",
    "    new_df_temp=pd.DataFrame()\n",
    "    new_df_temp[\"Reg Id\"]=new_df[\"Reg Id\"]\n",
    "    new_df_temp[\"Name\"]=new_df[\"Name\"]\n",
    "    new_df_temp[\"SUB CODE\"]=new_df.iloc[:,temp_cols_sc_index[i]]\n",
    "    new_df_temp[\"SUB NAME\"]=new_df.iloc[:,temp_cols_sn_index[i]]\n",
    "    new_df_temp[\"Dept\"]=\"EEE\"\n",
    "    new_df_temp[\"Sem\"]=SEMS[i]\n",
    "    new_df_temp[\"Year\"]=\"19\"\n",
    "    main_df_19_cse=pd.concat([main_df_19_cse,new_df_temp],ignore_index=True,axis=0)\n",
    "\n",
    "main_df_19_cse.shape"
   ]
  },
  {
   "cell_type": "code",
   "execution_count": null,
   "id": "0d00a4cf",
   "metadata": {},
   "outputs": [],
   "source": []
  },
  {
   "cell_type": "code",
   "execution_count": 194,
   "id": "bfa8e415",
   "metadata": {},
   "outputs": [
    {
     "name": "stdout",
     "output_type": "stream",
     "text": [
      "[2, 3, 4, 5, 6, 7, 8]\n"
     ]
    }
   ],
   "source": [
    "import os\n",
    "import pandas as pd\n",
    "\n",
    "sheet=pd.read_excel(\"N:/temp_ass/Data/Data/Y19/ME.xlsx\")\n",
    "u_s1=sheet\n",
    "u_s1.columns = u_s1.iloc[0]\n",
    "u_s1=u_s1.iloc[1:,:]\n",
    "u_s1.reset_index(drop=True,inplace=True)\n",
    "\n",
    "u_s1=u_s1[[\"Student Name (As Per SSC)\",\"Regd. Number\",\"Institution Elective-I \",\"Institution Elective-II \",\n",
    "          \"Department Elective-I\",\"Department Elective-II \",\"Department Elective-III \",\"Department Elective-IV\",\"Department Elective-V\"]\n",
    "        ]\n",
    "u_s1.rename(columns={\"Student Name (As Per SSC)\":\"Name\",\"Regd. Number\":\"Reg Id\",\"Institution Elective-I \":\"SUB NAME\",\"Institution Elective-II \":\"SUB NAME\",\"Department Elective-I\":\"SUB NAME\",\"Department Elective-II \":\"SUB NAME\",\"Department Elective-III \":\"SUB NAME\",\"Department Elective-IV\":\"SUB NAME\",\"Department Elective-V\":\"SUB NAME\"},inplace=True)\n",
    "new_df=pd.DataFrame(u_s1)\n",
    "temp_cols_sc=list(new_df.columns)\n",
    "temp_cols_sn=list(new_df.columns)\n",
    "temp_cols_sc_index=[i for i in range(0,len(temp_cols_sc)) if(temp_cols_sc[i]==\"SUB CODE\")]\n",
    "temp_cols_sn_index=[i for i in range(0,len(temp_cols_sn)) if(temp_cols_sn[i]==\"SUB NAME\")]\n",
    "print(temp_cols_sn_index)\n",
    "main_df_19_me=pd.DataFrame(columns=[\"Reg Id\",\"Name\",\"SUB CODE\",\"SUB NAME\",\"Dept\",\"Sem\",\"Year\"])\n",
    "for i in range(0,len(temp_cols_sn_index)):\n",
    "    new_df_temp=pd.DataFrame()\n",
    "    new_df_temp[\"Reg Id\"]=new_df[\"Reg Id\"]\n",
    "    new_df_temp[\"Name\"]=new_df[\"Name\"]\n",
    "    new_df_temp[\"SUB CODE\"]=\"-\"\n",
    "    new_df_temp[\"SUB NAME\"]=new_df.iloc[:,temp_cols_sn_index[i]]\n",
    "    new_df_temp[\"Dept\"]=\"ME\"\n",
    "    new_df_temp[\"Sem\"]=\"-\"\n",
    "    new_df_temp[\"Year\"]=\"19\"\n",
    "    main_df_19_me=pd.concat([main_df_19_me,new_df_temp],ignore_index=True,axis=0)"
   ]
  },
  {
   "cell_type": "code",
   "execution_count": 195,
   "id": "72d69a5f",
   "metadata": {},
   "outputs": [
    {
     "data": {
      "text/plain": [
       "(1015, 7)"
      ]
     },
     "execution_count": 195,
     "metadata": {},
     "output_type": "execute_result"
    }
   ],
   "source": [
    "main_df_19_me.shape"
   ]
  },
  {
   "cell_type": "code",
   "execution_count": null,
   "id": "e3c0dbef",
   "metadata": {},
   "outputs": [],
   "source": []
  },
  {
   "cell_type": "code",
   "execution_count": null,
   "id": "65667010",
   "metadata": {},
   "outputs": [],
   "source": []
  },
  {
   "cell_type": "code",
   "execution_count": 196,
   "id": "e0c61d22",
   "metadata": {},
   "outputs": [
    {
     "data": {
      "text/plain": [
       "(1211, 7)"
      ]
     },
     "execution_count": 196,
     "metadata": {},
     "output_type": "execute_result"
    }
   ],
   "source": [
    "main_df_19_ece.shape"
   ]
  },
  {
   "cell_type": "code",
   "execution_count": 197,
   "id": "7574486c",
   "metadata": {},
   "outputs": [
    {
     "data": {
      "text/plain": [
       "(588, 7)"
      ]
     },
     "execution_count": 197,
     "metadata": {},
     "output_type": "execute_result"
    }
   ],
   "source": [
    "main_df_19_civil.shape"
   ]
  },
  {
   "cell_type": "code",
   "execution_count": 198,
   "id": "f00e2f7e",
   "metadata": {},
   "outputs": [
    {
     "data": {
      "text/plain": [
       "(128, 7)"
      ]
     },
     "execution_count": 198,
     "metadata": {},
     "output_type": "execute_result"
    }
   ],
   "source": [
    "main_df_19_eie.shape"
   ]
  },
  {
   "cell_type": "code",
   "execution_count": 199,
   "id": "cf500ffe",
   "metadata": {},
   "outputs": [
    {
     "data": {
      "text/plain": [
       "(896, 7)"
      ]
     },
     "execution_count": 199,
     "metadata": {},
     "output_type": "execute_result"
    }
   ],
   "source": [
    "main_df_19_it.shape"
   ]
  },
  {
   "cell_type": "code",
   "execution_count": 200,
   "id": "043bac9d",
   "metadata": {},
   "outputs": [
    {
     "data": {
      "text/plain": [
       "(721, 7)"
      ]
     },
     "execution_count": 200,
     "metadata": {},
     "output_type": "execute_result"
    }
   ],
   "source": [
    "main_df_19_eee.shape"
   ]
  },
  {
   "cell_type": "code",
   "execution_count": 201,
   "id": "2950764c",
   "metadata": {},
   "outputs": [
    {
     "data": {
      "text/plain": [
       "(1351, 7)"
      ]
     },
     "execution_count": 201,
     "metadata": {},
     "output_type": "execute_result"
    }
   ],
   "source": [
    "main_df_19_cse.shape"
   ]
  },
  {
   "cell_type": "code",
   "execution_count": 202,
   "id": "7e00e56b",
   "metadata": {},
   "outputs": [
    {
     "data": {
      "text/plain": [
       "(1015, 7)"
      ]
     },
     "execution_count": 202,
     "metadata": {},
     "output_type": "execute_result"
    }
   ],
   "source": [
    "main_df_19_me.shape"
   ]
  },
  {
   "cell_type": "code",
   "execution_count": 208,
   "id": "4bf4dfe7",
   "metadata": {},
   "outputs": [],
   "source": [
    "main_df_19=pd.concat([main_df_19_ece,main_df_19_civil,main_df_19_eie,main_df_19_it,main_df_19_eee,main_df_19_cse,main_df_19_me],ignore_index=True,axis=0)"
   ]
  },
  {
   "cell_type": "code",
   "execution_count": 209,
   "id": "a0b0e6b8",
   "metadata": {},
   "outputs": [
    {
     "data": {
      "text/plain": [
       "(5910, 7)"
      ]
     },
     "execution_count": 209,
     "metadata": {},
     "output_type": "execute_result"
    }
   ],
   "source": [
    "main_df_19.shape"
   ]
  },
  {
   "cell_type": "code",
   "execution_count": 210,
   "id": "078f9ec5",
   "metadata": {},
   "outputs": [],
   "source": [
    "main_df_19.to_excel(\"main_df_19.xlsx\", index=False)"
   ]
  },
  {
   "cell_type": "code",
   "execution_count": null,
   "id": "55ed1c79",
   "metadata": {},
   "outputs": [],
   "source": []
  }
 ],
 "metadata": {
  "kernelspec": {
   "display_name": "Python 3 (ipykernel)",
   "language": "python",
   "name": "python3"
  },
  "language_info": {
   "codemirror_mode": {
    "name": "ipython",
    "version": 3
   },
   "file_extension": ".py",
   "mimetype": "text/x-python",
   "name": "python",
   "nbconvert_exporter": "python",
   "pygments_lexer": "ipython3",
   "version": "3.9.13"
  }
 },
 "nbformat": 4,
 "nbformat_minor": 5
}
